{
 "cells": [
  {
   "cell_type": "code",
   "execution_count": 1,
   "metadata": {
    "collapsed": false
   },
   "outputs": [
    {
     "name": "stderr",
     "output_type": "stream",
     "text": [
      "Using TensorFlow backend.\n"
     ]
    }
   ],
   "source": [
    "import numpy as np\n",
    "from sklearn import metrics\n",
    "from work_v2 import get_model, get_test_datagen, count_files\n",
    "import matplotlib.pyplot as plt\n",
    "import itertools\n",
    "from PIL import Image"
   ]
  },
  {
   "cell_type": "code",
   "execution_count": 2,
   "metadata": {
    "collapsed": true
   },
   "outputs": [],
   "source": [
    "position = 'PA'\n",
    "group = 'M_Adult'\n",
    "test_path = 'data/{position}/train_256_3ch_flip/{group}/test/'.format(position=position, group=group)"
   ]
  },
  {
   "cell_type": "code",
   "execution_count": 3,
   "metadata": {
    "collapsed": true
   },
   "outputs": [],
   "source": [
    "batch_size = 32\n",
    "target_size = (224, 224)\n",
    "n_steps_test = np.ceil(count_files(test_path) / batch_size)"
   ]
  },
  {
   "cell_type": "code",
   "execution_count": 4,
   "metadata": {
    "collapsed": true
   },
   "outputs": [],
   "source": [
    "def scores_from_model_top(model, top):\n",
    "    weights_path = 'saved_models/{model}/{top}/top_trained.h5'.format(model=model, top=top)\n",
    "    full_model = get_model(model, top)\n",
    "    full_model.load_weights(weights_path)\n",
    "    test_datagen = get_test_datagen(model)\n",
    "    test_generator = test_datagen.flow_from_directory(\n",
    "            test_path,\n",
    "            # target_size=(224, 224),\n",
    "            reader_config={'target_mode': 'RGB', 'target_size': target_size},\n",
    "            batch_size=batch_size,\n",
    "            shuffle=False)\n",
    "    preds = full_model.predict_generator(\n",
    "        generator=test_generator,\n",
    "        steps=n_steps_test,\n",
    "        workers=4,\n",
    "        verbose=1)\n",
    "    scores = preds[:,1]\n",
    "    return scores        "
   ]
  },
  {
   "cell_type": "code",
   "execution_count": 5,
   "metadata": {
    "collapsed": true
   },
   "outputs": [],
   "source": [
    "def roc_curve_figs(model, top):\n",
    "    scores = scores_from_model_top(model, top)\n",
    "    y = 436*[0]+436*[1]\n",
    "    fpr, tpr, thresholds = metrics.roc_curve(y, scores, pos_label=1)\n",
    "    roc_auc = metrics.auc(fpr, tpr)\n",
    "    \n",
    "    fig = plt.figure(figsize=[3,3])\n",
    "    lw = 2\n",
    "    plt.plot(fpr, tpr, color='darkorange',\n",
    "             lw=lw, label='ROC curve (area = %0.2f)' % roc_auc)\n",
    "    plt.plot([0, 1], [0, 1], color='navy', lw=lw, linestyle='--')\n",
    "    plt.xlim([0.0, 1.0])\n",
    "    plt.ylim([0.0, 1.05])\n",
    "    plt.xlabel('False Positive Rate')\n",
    "    plt.ylabel('True Positive Rate')\n",
    "    plt.title('ROC {}, {}'.format(model, top))\n",
    "    plt.legend(loc=\"lower right\")\n",
    "    \n",
    "    return fig"
   ]
  },
  {
   "cell_type": "code",
   "execution_count": 9,
   "metadata": {
    "collapsed": false
   },
   "outputs": [
    {
     "name": "stdout",
     "output_type": "stream",
     "text": [
      "Found 872 images belonging to 2 classes.\n",
      "28/28 [==============================] - 11s    \n",
      "Found 872 images belonging to 2 classes.\n",
      "28/28 [==============================] - 10s    \n",
      "Found 872 images belonging to 2 classes.\n",
      "28/28 [==============================] - 10s    \n",
      "Found 872 images belonging to 2 classes.\n",
      "28/28 [==============================] - 19s    \n",
      "Found 872 images belonging to 2 classes.\n",
      "28/28 [==============================] - 15s    \n",
      "Found 872 images belonging to 2 classes.\n",
      "28/28 [==============================] - 15s    \n",
      "Found 872 images belonging to 2 classes.\n",
      "28/28 [==============================] - 18s    \n",
      "Found 872 images belonging to 2 classes.\n",
      "28/28 [==============================] - 18s    \n",
      "Found 872 images belonging to 2 classes.\n",
      "28/28 [==============================] - 18s    \n"
     ]
    }
   ],
   "source": [
    "models = ['resnet50', 'vgg16', 'vgg19']\n",
    "tops = ['chollet', 'waya', 'linear']\n",
    "# figs = [roc_curve_figs(model, top) for model, top in itertools.product(models, tops)]\n",
    "scores = [scores_from_model_top(model, top) for model, top in itertools.product(models, tops)]"
   ]
  },
  {
   "cell_type": "code",
   "execution_count": 10,
   "metadata": {
    "collapsed": true
   },
   "outputs": [],
   "source": [
    "def ensemble_roc_auc(y, scores, combination):\n",
    "    ensemble_score = np.mean([scores[combination[0]], scores[combination[1]]], axis=0)\n",
    "    fpr, tpr, thresholds = metrics.roc_curve(y, ensemble_score, pos_label=1)\n",
    "    roc_auc = metrics.auc(fpr, tpr)\n",
    "    return roc_auc"
   ]
  },
  {
   "cell_type": "code",
   "execution_count": 11,
   "metadata": {
    "collapsed": true
   },
   "outputs": [],
   "source": [
    "def ensemble_precision_recall(y, scores, combination):\n",
    "    ensemble_score = np.mean([scores[combination[0]], scores[combination[1]]], axis=0)\n",
    "    precision, recall, thresholds = metrics.precision_recall_curve(y, ensemble_score)\n",
    "    return precision, recall, thresholds"
   ]
  },
  {
   "cell_type": "code",
   "execution_count": 13,
   "metadata": {
    "collapsed": false
   },
   "outputs": [
    {
     "name": "stdout",
     "output_type": "stream",
     "text": [
      "Max AUC: 0.704407246864742. \n",
      "Top combination: (('vgg16', 'waya'), ('vgg19', 'linear'))\n"
     ]
    }
   ],
   "source": [
    "y = 436*[0]+436*[1]\n",
    "combinations = [comb for comb in itertools.combinations(range(9), 2)]\n",
    "aucs = [ensemble_roc_auc(y, scores, comb) for comb in combinations]\n",
    "comb_names = [(m1, m2) for (m1, m2) in itertools.combinations(itertools.product(models, tops), 2)]\n",
    "print('Max AUC: {}. \\nTop combination: {}'.format(np.max(aucs),  comb_names[np.argmax(aucs)]))"
   ]
  },
  {
   "cell_type": "code",
   "execution_count": 14,
   "metadata": {
    "collapsed": true
   },
   "outputs": [],
   "source": [
    "best_comb = combinations[np.argmax(aucs)]\n",
    "best_ensemble = np.mean([scores[best_comb[0]], scores[best_comb[1]]], axis=0)\n",
    "prec_rec = ensemble_precision_recall(y, scores, best_comb)\n",
    "avg_prec = metrics.average_precision_score(y, best_ensemble)"
   ]
  },
  {
   "cell_type": "code",
   "execution_count": 17,
   "metadata": {
    "collapsed": false
   },
   "outputs": [
    {
     "data": {
      "image/png": "[encoded data removed]",
      "text/plain": [
       "<matplotlib.figure.Figure at 0x7fc0fd9b2d68>"
      ]
     },
     "metadata": {},
     "output_type": "display_data"
    }
   ],
   "source": [
    "# Plot Precision-Recall curve\n",
    "lw=2\n",
    "plt.clf()\n",
    "plt.plot(prec_rec[1], prec_rec[0], lw=lw, color='navy',\n",
    "         label='Precision-Recall curve')\n",
    "plt.xlabel('Recall')\n",
    "plt.ylabel('Precision')\n",
    "plt.ylim([0.0, 1.05])\n",
    "plt.xlim([0.0, 1.0])\n",
    "plt.title('Precision-Recall example: AUC={0:0.2f}'.format(avg_prec))\n",
    "plt.legend(loc=\"lower left\")\n",
    "plt.show()"
   ]
  },
  {
   "cell_type": "code",
   "execution_count": null,
   "metadata": {
    "collapsed": true
   },
   "outputs": [],
   "source": []
  }
 ],
 "metadata": {
  "anaconda-cloud": {},
  "kernelspec": {
   "display_name": "Python [default]",
   "language": "python",
   "name": "python3"
  },
  "language_info": {
   "codemirror_mode": {
    "name": "ipython",
    "version": 3
   },
   "file_extension": ".py",
   "mimetype": "text/x-python",
   "name": "python",
   "nbconvert_exporter": "python",
   "pygments_lexer": "ipython3",
   "version": "3.5.2"
  }
 },
 "nbformat": 4,
 "nbformat_minor": 2
}
