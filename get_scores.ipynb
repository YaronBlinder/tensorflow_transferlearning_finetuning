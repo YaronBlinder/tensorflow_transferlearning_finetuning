{
 "cells": [
  {
   "cell_type": "code",
   "execution_count": 6,
   "metadata": {},
   "outputs": [],
   "source": [
    "import os\n",
    "import glob\n",
    "import numpy as np\n",
    "from sklearn import metrics\n",
    "from work_v2 import get_model, get_test_datagen, count_files\n",
    "import itertools\n",
    "import matplotlib.pyplot as plt"
   ]
  },
  {
   "cell_type": "code",
   "execution_count": 7,
   "metadata": {
    "collapsed": true
   },
   "outputs": [],
   "source": [
    "def scores_from_model_top(group, position, model, top):\n",
    "    weights_path = 'models/{group}/{position}/{model}/{top}/top_trained.h5'.format(position=position, group=group,\n",
    "                                                                                   model=model, top=top)\n",
    "    test_path = 'data/{position}_256/{group}/test/'.format(position=position, group=group)\n",
    "    n_test_samples = count_files(test_path)\n",
    "    n_steps_test = np.ceil(n_test_samples / batch_size)\n",
    "    full_model = get_model(model, top)\n",
    "    full_model.load_weights(weights_path)\n",
    "    test_datagen = get_test_datagen(model)\n",
    "    target_size = (224, 224)\n",
    "    test_generator = test_datagen.flow_from_directory(\n",
    "        test_path,\n",
    "        # target_size=(224, 224),\n",
    "        reader_config={'target_mode': 'RGB', 'target_size': target_size},\n",
    "        batch_size=batch_size,\n",
    "        shuffle=False)\n",
    "    preds = full_model.predict_generator(\n",
    "        generator=test_generator,\n",
    "        steps=n_steps_test,\n",
    "        workers=4,\n",
    "        verbose=1)\n",
    "    scores = preds[:, 1]\n",
    "    return scores\n",
    "\n",
    "\n",
    "def ensemble_roc_auc(y, scores, combination):\n",
    "    ensemble_score = np.mean([scores[combination[0]], scores[combination[1]]], axis=0)\n",
    "    fpr, tpr, thresholds = metrics.roc_curve(y, ensemble_score, pos_label=1)\n",
    "    roc_auc = metrics.auc(fpr, tpr)\n",
    "    return roc_auc\n",
    "\n",
    "\n",
    "def ensemble_precision_recall(y, scores, combination):\n",
    "    ensemble_score = np.mean([scores[combination[0]], scores[combination[1]]], axis=0)\n",
    "    precision, recall, thresholds = metrics.precision_recall_curve(y, ensemble_score)\n",
    "    return precision, recall, thresholds\n"
   ]
  },
  {
   "cell_type": "code",
   "execution_count": 8,
   "metadata": {
    "collapsed": true
   },
   "outputs": [],
   "source": [
    "def count_files(directory):\n",
    "    \"\"\"Get number of files by searching directory recursively\"\"\"\n",
    "    if not os.path.exists(directory):\n",
    "        return 0\n",
    "    cnt = 0\n",
    "    for r, dirs, files in os.walk(directory):\n",
    "        for dr in dirs:\n",
    "            cnt += len(glob.glob(os.path.join(r, dr + \"/*\")))\n",
    "        return cnt\n"
   ]
  },
  {
   "cell_type": "code",
   "execution_count": 9,
   "metadata": {
    "collapsed": true
   },
   "outputs": [],
   "source": [
    "groups = ['M_Adult']\n",
    "positions = ['PA', 'LAT']\n",
    "models = ['resnet50', 'vgg16', 'vgg19']\n",
    "tops = ['waya', 'chollet', 'linear']"
   ]
  },
  {
   "cell_type": "code",
   "execution_count": 10,
   "metadata": {},
   "outputs": [
    {
     "name": "stdout",
     "output_type": "stream",
     "text": [
      "Found 796 images belonging to 2 classes.\n",
      "25/25 [==============================] - 10s    \n",
      "Found 796 images belonging to 2 classes.\n",
      "25/25 [==============================] - 9s     \n",
      "Found 796 images belonging to 2 classes.\n",
      "25/25 [==============================] - 9s     \n",
      "Found 796 images belonging to 2 classes.\n",
      "25/25 [==============================] - 18s    \n",
      "Found 796 images belonging to 2 classes.\n",
      "25/25 [==============================] - 13s    \n",
      "Found 796 images belonging to 2 classes.\n",
      "25/25 [==============================] - 13s    \n",
      "Found 796 images belonging to 2 classes.\n",
      "25/25 [==============================] - 16s    \n",
      "Found 796 images belonging to 2 classes.\n",
      "25/25 [==============================] - 16s    \n",
      "Found 796 images belonging to 2 classes.\n",
      "25/25 [==============================] - 16s    \n",
      "Found 796 images belonging to 2 classes.\n",
      "25/25 [==============================] - 10s    \n",
      "Found 796 images belonging to 2 classes.\n",
      "25/25 [==============================] - 10s    \n",
      "Found 796 images belonging to 2 classes.\n",
      "25/25 [==============================] - 10s    \n",
      "Found 796 images belonging to 2 classes.\n",
      "25/25 [==============================] - 13s    \n",
      "Found 796 images belonging to 2 classes.\n",
      "25/25 [==============================] - 14s    \n",
      "Found 796 images belonging to 2 classes.\n",
      "25/25 [==============================] - 13s    \n",
      "Found 796 images belonging to 2 classes.\n",
      "25/25 [==============================] - 16s    \n",
      "Found 796 images belonging to 2 classes.\n",
      "25/25 [==============================] - 16s    \n",
      "Found 796 images belonging to 2 classes.\n",
      "25/25 [==============================] - 16s    \n"
     ]
    }
   ],
   "source": [
    "batch_size = 32\n",
    "scores = [scores_from_model_top(group, position, model, top) for group, position, model, top in\n",
    "          itertools.product(groups, positions, models, tops)]\n",
    "np.save('scores.npy', scores)\n",
    "# num_files = sum(os.path.isfile(os.path.join(test_path, f)) for f in os.listdir(test_path))\n",
    "# y = num_files/2 * [0] + num_files/2 * [1]\n",
    "# combinations = [comb for comb in itertools.combinations(range(9), 2)]\n",
    "# aucs = [ensemble_roc_auc(y, scores, comb) for comb in combinations]\n",
    "\n"
   ]
  },
  {
   "cell_type": "code",
   "execution_count": 38,
   "metadata": {
    "collapsed": true
   },
   "outputs": [],
   "source": [
    "scores_np = np.array(scores)"
   ]
  },
  {
   "cell_type": "code",
   "execution_count": 39,
   "metadata": {},
   "outputs": [
    {
     "data": {
      "text/plain": [
       "(18, 796)"
      ]
     },
     "execution_count": 39,
     "metadata": {},
     "output_type": "execute_result"
    }
   ],
   "source": [
    "scores_np.shape"
   ]
  },
  {
   "cell_type": "code",
   "execution_count": 40,
   "metadata": {
    "collapsed": true
   },
   "outputs": [],
   "source": [
    "comb_aucs = []\n",
    "comb_precision = []\n",
    "comb_recall = []\n",
    "for i_group, group in enumerate(groups):\n",
    "    for i_model, model in enumerate(models):\n",
    "        test_path = 'data/PA_256/{group}/test/'.format(group=group)\n",
    "        num_files = count_files(test_path)\n",
    "#         num_files = sum(os.path.isfile(os.path.join(test_path, f)) for f in os.listdir(test_path))\n",
    "        y = int(num_files / 2) * [0] + int(num_files / 2) * [1]\n",
    "        for i_top, top in enumerate(tops):\n",
    "            PA_model_score = scores_np[i_model*3+i_top,:]\n",
    "            LAT_model_score = scores_np[9+i_model*3+i_top,:]\n",
    "            ensemble_score = np.mean([PA_model_score, LAT_model_score], axis=0)\n",
    "            fpr, tpr, thresholds = metrics.roc_curve(y, ensemble_score, pos_label=1)\n",
    "            roc_auc = metrics.auc(fpr, tpr)\n",
    "            comb_aucs.append(roc_auc)\n",
    "            precision, recall, thresholds = metrics.precision_recall_curve(y, ensemble_score)\n",
    "            comb_precision.append(precision)\n",
    "            comb_recall.append(recall)\n",
    "np.save('comb_aucs.npy', comb_aucs)\n",
    "np.save('comb_precision.npy', comb_precision)\n",
    "np.save('comb_recall.npy', comb_recall)"
   ]
  },
  {
   "cell_type": "code",
   "execution_count": 46,
   "metadata": {},
   "outputs": [
    {
     "data": {
      "text/plain": [
       "0.69314537511678997"
      ]
     },
     "execution_count": 46,
     "metadata": {},
     "output_type": "execute_result"
    }
   ],
   "source": [
    "all_comb_auc = []\n",
    "for PA_id, LAT_id in itertools.product(range(9), range(9,18)):\n",
    "    PA_model_score = scores_np[PA_id, :]\n",
    "    LAT_model_score = scores_np[LAT_id, :]\n",
    "    ensemble_score = np.mean([PA_model_score, LAT_model_score], axis=0)\n",
    "    fpr, tpr, thresholds = metrics.roc_curve(y, ensemble_score, pos_label=1)\n",
    "    roc_auc = metrics.auc(fpr, tpr)\n",
    "    all_comb_auc.append(roc_auc)\n",
    "top_comb = np.argmax(all_comb_auc)\n",
    "np.max(all_comb_auc)"
   ]
  },
  {
   "cell_type": "code",
   "execution_count": 47,
   "metadata": {
    "collapsed": true
   },
   "outputs": [],
   "source": [
    "combs = [(i,j) for i,j in itertools.product(range(9), range(9,18))]\n",
    "comb_names = [(m1, m2) for m1, m2 in itertools.product(models, tops)]\n",
    "comb_names_sq = [(c1, c2) for c1, c2 in itertools.product(comb_names, comb_names)]"
   ]
  },
  {
   "cell_type": "code",
   "execution_count": 48,
   "metadata": {},
   "outputs": [
    {
     "data": {
      "text/plain": [
       "(('vgg19', 'waya'), ('vgg16', 'waya'))"
      ]
     },
     "execution_count": 48,
     "metadata": {},
     "output_type": "execute_result"
    }
   ],
   "source": [
    "comb_names_sq[top_comb]"
   ]
  },
  {
   "cell_type": "code",
   "execution_count": 49,
   "metadata": {},
   "outputs": [],
   "source": [
    "top_PA_id = combs[top_comb][0]\n",
    "top_LAT_id = combs[top_comb][1]\n",
    "\n",
    "PA_model_score = scores_np[top_PA_id, :]\n",
    "LAT_model_score = scores_np[top_LAT_id, :]"
   ]
  },
  {
   "cell_type": "code",
   "execution_count": 69,
   "metadata": {},
   "outputs": [],
   "source": [
    "inc_auc = []\n",
    "for i in range(1,10):\n",
    "    ensemble_score = np.mean([(i/10)*PA_model_score,(1-i/10)*LAT_model_score], axis=0)\n",
    "    fpr, tpr, thresholds = metrics.roc_curve(y, ensemble_score, pos_label=1)\n",
    "    roc_auc = metrics.auc(fpr, tpr)\n",
    "    inc_auc.append(roc_auc)\n"
   ]
  },
  {
   "cell_type": "code",
   "execution_count": 70,
   "metadata": {},
   "outputs": [
    {
     "data": {
      "text/plain": [
       "<matplotlib.text.Annotation at 0x7f5c0f0595f8>"
      ]
     },
     "execution_count": 70,
     "metadata": {},
     "output_type": "execute_result"
    }
   ],
   "source": [
    "xmax = np.argmax(inc_auc)\n",
    "ymax = np.round(np.max(inc_auc), 4)\n",
    "\n",
    "fig = plt.figure()\n",
    "ax = fig.add_subplot(111)\n",
    "\n",
    "ax.plot(range(1, 10), inc_auc)\n",
    "\n",
    "ax.annotate('max_auc = {}'.format(ymax), xy=(xmax, ymax), xytext=(2, ymax),\n",
    "            arrowprops=dict(facecolor='black', shrink=0.05))\n",
    "\n"
   ]
  },
  {
   "cell_type": "code",
   "execution_count": 71,
   "metadata": {},
   "outputs": [
    {
     "data": {
      "image/png": "[encoded data removed]",
      "text/plain": [
       "<matplotlib.figure.Figure at 0x7f5c0f24d128>"
      ]
     },
     "metadata": {},
     "output_type": "display_data"
    }
   ],
   "source": [
    "plt.show()"
   ]
  },
  {
   "cell_type": "code",
   "execution_count": null,
   "metadata": {
    "collapsed": true
   },
   "outputs": [],
   "source": []
  }
 ],
 "metadata": {
  "kernelspec": {
   "display_name": "Python 3",
   "language": "python",
   "name": "python3"
  },
  "language_info": {
   "codemirror_mode": {
    "name": "ipython",
    "version": 3
   },
   "file_extension": ".py",
   "mimetype": "text/x-python",
   "name": "python",
   "nbconvert_exporter": "python",
   "pygments_lexer": "ipython3",
   "version": "3.6.0"
  }
 },
 "nbformat": 4,
 "nbformat_minor": 2
}
