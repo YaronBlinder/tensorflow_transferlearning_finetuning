{
 "cells": [
  {
   "cell_type": "code",
   "execution_count": 14,
   "metadata": {
    "collapsed": true
   },
   "outputs": [],
   "source": [
    "import os\n",
    "import numpy as np\n",
    "from sklearn import metrics\n",
    "from work_v2 import get_model, get_test_datagen, count_files\n",
    "import itertools"
   ]
  },
  {
   "cell_type": "code",
   "execution_count": 10,
   "metadata": {
    "collapsed": true
   },
   "outputs": [],
   "source": [
    "def scores_from_model_top(group, position, model, top):\n",
    "    weights_path = 'models/{group}/{position}/{model}/{top}/top_trained.h5'.format(position=position, group=group,\n",
    "                                                                                   model=model, top=top)\n",
    "    test_path = 'data/{position}_256/{group}/test/'.format(position=position, group=group)\n",
    "    n_test_samples = count_files(test_path)\n",
    "    n_steps_test = np.ceil(n_test_samples / batch_size)\n",
    "    full_model = get_model(model, top)\n",
    "    full_model.load_weights(weights_path)\n",
    "    test_datagen = get_test_datagen(model)\n",
    "    target_size = (224, 224)\n",
    "    test_generator = test_datagen.flow_from_directory(\n",
    "        test_path,\n",
    "        # target_size=(224, 224),\n",
    "        reader_config={'target_mode': 'RGB', 'target_size': target_size},\n",
    "        batch_size=batch_size,\n",
    "        shuffle=False)\n",
    "    preds = full_model.predict_generator(\n",
    "        generator=test_generator,\n",
    "        steps=n_steps_test,\n",
    "        workers=4,\n",
    "        verbose=1)\n",
    "    scores = preds[:, 1]\n",
    "    return scores\n",
    "\n",
    "\n",
    "def ensemble_roc_auc(y, scores, combination):\n",
    "    ensemble_score = np.mean([scores[combination[0]], scores[combination[1]]], axis=0)\n",
    "    fpr, tpr, thresholds = metrics.roc_curve(y, ensemble_score, pos_label=1)\n",
    "    roc_auc = metrics.auc(fpr, tpr)\n",
    "    return roc_auc\n",
    "\n",
    "\n",
    "def ensemble_precision_recall(y, scores, combination):\n",
    "    ensemble_score = np.mean([scores[combination[0]], scores[combination[1]]], axis=0)\n",
    "    precision, recall, thresholds = metrics.precision_recall_curve(y, ensemble_score)\n",
    "    return precision, recall, thresholds\n"
   ]
  },
  {
   "cell_type": "code",
   "execution_count": 11,
   "metadata": {
    "collapsed": true
   },
   "outputs": [],
   "source": [
    "def count_files(directory):\n",
    "    \"\"\"Get number of files by searching directory recursively\"\"\"\n",
    "    if not os.path.exists(directory):\n",
    "        return 0\n",
    "    cnt = 0\n",
    "    for r, dirs, files in os.walk(directory):\n",
    "        for dr in dirs:\n",
    "            cnt += len(glob.glob(os.path.join(r, dr + \"/*\")))\n",
    "        return cnt\n"
   ]
  },
  {
   "cell_type": "code",
   "execution_count": 12,
   "metadata": {
    "collapsed": true
   },
   "outputs": [],
   "source": [
    "groups = ['M_Adult']\n",
    "positions = ['PA', 'LAT']\n",
    "models = ['resnet50', 'vgg16', 'vgg19']\n",
    "tops = ['waya', 'chollet', 'linear']"
   ]
  },
  {
   "cell_type": "code",
   "execution_count": 16,
   "metadata": {},
   "outputs": [
    {
     "name": "stdout",
     "output_type": "stream",
     "text": [
      "Found 796 images belonging to 2 classes.\n",
      "25/25 [==============================] - 10s    \n",
      "Found 796 images belonging to 2 classes.\n",
      "25/25 [==============================] - 10s    \n",
      "Found 796 images belonging to 2 classes.\n",
      "25/25 [==============================] - 10s    \n",
      "Found 796 images belonging to 2 classes.\n",
      "25/25 [==============================] - 14s    \n",
      "Found 796 images belonging to 2 classes.\n",
      "25/25 [==============================] - 14s    \n",
      "Found 796 images belonging to 2 classes.\n",
      "25/25 [==============================] - 14s    \n",
      "Found 796 images belonging to 2 classes.\n",
      "25/25 [==============================] - 17s    \n",
      "Found 796 images belonging to 2 classes.\n",
      "25/25 [==============================] - 17s    \n",
      "Found 796 images belonging to 2 classes.\n",
      "25/25 [==============================] - 17s    \n",
      "Found 796 images belonging to 2 classes.\n",
      "25/25 [==============================] - 11s    \n",
      "Found 796 images belonging to 2 classes.\n",
      "25/25 [==============================] - 11s    \n",
      "Found 796 images belonging to 2 classes.\n",
      "25/25 [==============================] - 11s    \n",
      "Found 796 images belonging to 2 classes.\n",
      "25/25 [==============================] - 15s    \n",
      "Found 796 images belonging to 2 classes.\n",
      "25/25 [==============================] - 14s    \n",
      "Found 796 images belonging to 2 classes.\n",
      "25/25 [==============================] - 14s    \n",
      "Found 796 images belonging to 2 classes.\n",
      "25/25 [==============================] - 17s    \n",
      "Found 796 images belonging to 2 classes.\n",
      "25/25 [==============================] - 17s    \n",
      "Found 796 images belonging to 2 classes.\n",
      "25/25 [==============================] - 17s    \n"
     ]
    },
    {
     "ename": "TypeError",
     "evalue": "can't multiply sequence by non-int of type 'float'",
     "output_type": "error",
     "traceback": [
      "\u001b[0;31m---------------------------------------------------------------------------\u001b[0m",
      "\u001b[0;31mTypeError\u001b[0m                                 Traceback (most recent call last)",
      "\u001b[0;32m<ipython-input-16-347aa7aaef23>\u001b[0m in \u001b[0;36m<module>\u001b[0;34m()\u001b[0m\n\u001b[1;32m     17\u001b[0m         \u001b[0mn_test_samples\u001b[0m \u001b[0;34m=\u001b[0m \u001b[0mcount_files\u001b[0m\u001b[0;34m(\u001b[0m\u001b[0mtest_path\u001b[0m\u001b[0;34m)\u001b[0m\u001b[0;34m\u001b[0m\u001b[0m\n\u001b[1;32m     18\u001b[0m         \u001b[0mnum_files\u001b[0m \u001b[0;34m=\u001b[0m \u001b[0msum\u001b[0m\u001b[0;34m(\u001b[0m\u001b[0mos\u001b[0m\u001b[0;34m.\u001b[0m\u001b[0mpath\u001b[0m\u001b[0;34m.\u001b[0m\u001b[0misfile\u001b[0m\u001b[0;34m(\u001b[0m\u001b[0mos\u001b[0m\u001b[0;34m.\u001b[0m\u001b[0mpath\u001b[0m\u001b[0;34m.\u001b[0m\u001b[0mjoin\u001b[0m\u001b[0;34m(\u001b[0m\u001b[0mtest_path\u001b[0m\u001b[0;34m,\u001b[0m \u001b[0mf\u001b[0m\u001b[0;34m)\u001b[0m\u001b[0;34m)\u001b[0m \u001b[0;32mfor\u001b[0m \u001b[0mf\u001b[0m \u001b[0;32min\u001b[0m \u001b[0mos\u001b[0m\u001b[0;34m.\u001b[0m\u001b[0mlistdir\u001b[0m\u001b[0;34m(\u001b[0m\u001b[0mtest_path\u001b[0m\u001b[0;34m)\u001b[0m\u001b[0;34m)\u001b[0m\u001b[0;34m\u001b[0m\u001b[0m\n\u001b[0;32m---> 19\u001b[0;31m         \u001b[0my\u001b[0m \u001b[0;34m=\u001b[0m \u001b[0mnum_files\u001b[0m \u001b[0;34m/\u001b[0m \u001b[0;36m2\u001b[0m \u001b[0;34m*\u001b[0m \u001b[0;34m[\u001b[0m\u001b[0;36m0\u001b[0m\u001b[0;34m]\u001b[0m \u001b[0;34m+\u001b[0m \u001b[0mnum_files\u001b[0m \u001b[0;34m/\u001b[0m \u001b[0;36m2\u001b[0m \u001b[0;34m*\u001b[0m \u001b[0;34m[\u001b[0m\u001b[0;36m1\u001b[0m\u001b[0;34m]\u001b[0m\u001b[0;34m\u001b[0m\u001b[0m\n\u001b[0m\u001b[1;32m     20\u001b[0m         \u001b[0;32mfor\u001b[0m \u001b[0mi_top\u001b[0m\u001b[0;34m,\u001b[0m \u001b[0mtop\u001b[0m \u001b[0;32min\u001b[0m \u001b[0menumerate\u001b[0m\u001b[0;34m(\u001b[0m\u001b[0mtops\u001b[0m\u001b[0;34m)\u001b[0m\u001b[0;34m:\u001b[0m\u001b[0;34m\u001b[0m\u001b[0m\n\u001b[1;32m     21\u001b[0m             \u001b[0mPA_model_score\u001b[0m \u001b[0;34m=\u001b[0m \u001b[0mscores\u001b[0m\u001b[0;34m[\u001b[0m\u001b[0mi_group\u001b[0m\u001b[0;34m,\u001b[0m \u001b[0;36m0\u001b[0m\u001b[0;34m,\u001b[0m \u001b[0mi_model\u001b[0m\u001b[0;34m,\u001b[0m \u001b[0mi_top\u001b[0m\u001b[0;34m]\u001b[0m\u001b[0;34m\u001b[0m\u001b[0m\n",
      "\u001b[0;31mTypeError\u001b[0m: can't multiply sequence by non-int of type 'float'"
     ]
    }
   ],
   "source": [
    "batch_size = 32\n",
    "scores = [scores_from_model_top(group, position, model, top) for group, position, model, top in\n",
    "          itertools.product(groups, positions, models, tops)]\n",
    "np.save('scores.npy', scores)\n",
    "# num_files = sum(os.path.isfile(os.path.join(test_path, f)) for f in os.listdir(test_path))\n",
    "# y = num_files/2 * [0] + num_files/2 * [1]\n",
    "# combinations = [comb for comb in itertools.combinations(range(9), 2)]\n",
    "# aucs = [ensemble_roc_auc(y, scores, comb) for comb in combinations]\n",
    "\n"
   ]
  },
  {
   "cell_type": "code",
   "execution_count": 19,
   "metadata": {
    "collapsed": true
   },
   "outputs": [],
   "source": [
    "scores_np = np.array(scores)"
   ]
  },
  {
   "cell_type": "code",
   "execution_count": 20,
   "metadata": {},
   "outputs": [
    {
     "data": {
      "text/plain": [
       "(18, 796)"
      ]
     },
     "execution_count": 20,
     "metadata": {},
     "output_type": "execute_result"
    }
   ],
   "source": [
    "scores_np.shape"
   ]
  },
  {
   "cell_type": "code",
   "execution_count": 59,
   "metadata": {
    "collapsed": true
   },
   "outputs": [],
   "source": [
    "comb_aucs = []\n",
    "comb_precision = []\n",
    "comb_recall = []\n",
    "for i_group, group in enumerate(groups):\n",
    "    for i_model, model in enumerate(models):\n",
    "        test_path = 'data/PA_256/{group}/test/'.format(group=group)\n",
    "        num_files = count_files(test_path)\n",
    "#         num_files = sum(os.path.isfile(os.path.join(test_path, f)) for f in os.listdir(test_path))\n",
    "        y = int(num_files / 2) * [0] + int(num_files / 2) * [1]\n",
    "        for i_top, top in enumerate(tops):\n",
    "            PA_model_score = scores_np[i_model*3+i_top,:]\n",
    "            LAT_model_score = scores_np[9+i_model*3+i_top,:]\n",
    "            ensemble_score = np.mean([PA_model_score, LAT_model_score], axis=0)\n",
    "            fpr, tpr, thresholds = metrics.roc_curve(y, ensemble_score, pos_label=1)\n",
    "            roc_auc = metrics.auc(fpr, tpr)\n",
    "            comb_aucs.append(roc_auc)\n",
    "            precision, recall, thresholds = metrics.precision_recall_curve(y, ensemble_score)\n",
    "            comb_precision.append(precision)\n",
    "            comb_recall.append(recall)\n",
    "np.save('comb_aucs.npy', comb_aucs)\n",
    "np.save('comb_precision.npy', comb_precision)\n",
    "np.save('comb_recall.npy', comb_recall)"
   ]
  },
  {
   "cell_type": "code",
   "execution_count": 79,
   "metadata": {},
   "outputs": [
    {
     "data": {
      "text/plain": [
       "61"
      ]
     },
     "execution_count": 79,
     "metadata": {},
     "output_type": "execute_result"
    }
   ],
   "source": [
    "all_comb_auc = []\n",
    "for PA_id, LAT_id in itertools.product(range(9), range(9,18)):\n",
    "    PA_model_score = scores_np[PA_id, :]\n",
    "    LAT_model_score = scores_np[LAT_id, :]\n",
    "    ensemble_score = np.mean([PA_model_score, LAT_model_score], axis=0)\n",
    "    fpr, tpr, thresholds = metrics.roc_curve(y, ensemble_score, pos_label=1)\n",
    "    roc_auc = metrics.auc(fpr, tpr)\n",
    "    all_comb_auc.append(roc_auc)\n",
    "np.max(all_comb_auc)\n",
    "np.argmax(all_comb_auc)"
   ]
  },
  {
   "cell_type": "code",
   "execution_count": 94,
   "metadata": {
    "collapsed": true
   },
   "outputs": [],
   "source": [
    "combs = [(i,j) for i,j in itertools.product(range(9), range(9,18))]\n",
    "comb_names = [(m1, m2) for m1, m2 in itertools.product(models, tops)]\n",
    "comb_names_sq = [(c1, c2) for c1, c2 in itertools.product(comb_names, comb_names)]"
   ]
  },
  {
   "cell_type": "code",
   "execution_count": 98,
   "metadata": {},
   "outputs": [
    {
     "data": {
      "text/plain": [
       "[(0, 9),\n",
       " (0, 10),\n",
       " (0, 11),\n",
       " (0, 12),\n",
       " (0, 13),\n",
       " (0, 14),\n",
       " (0, 15),\n",
       " (0, 16),\n",
       " (0, 17),\n",
       " (1, 9),\n",
       " (1, 10),\n",
       " (1, 11),\n",
       " (1, 12),\n",
       " (1, 13),\n",
       " (1, 14),\n",
       " (1, 15),\n",
       " (1, 16),\n",
       " (1, 17),\n",
       " (2, 9),\n",
       " (2, 10),\n",
       " (2, 11),\n",
       " (2, 12),\n",
       " (2, 13),\n",
       " (2, 14),\n",
       " (2, 15),\n",
       " (2, 16),\n",
       " (2, 17),\n",
       " (3, 9),\n",
       " (3, 10),\n",
       " (3, 11),\n",
       " (3, 12),\n",
       " (3, 13),\n",
       " (3, 14),\n",
       " (3, 15),\n",
       " (3, 16),\n",
       " (3, 17),\n",
       " (4, 9),\n",
       " (4, 10),\n",
       " (4, 11),\n",
       " (4, 12),\n",
       " (4, 13),\n",
       " (4, 14),\n",
       " (4, 15),\n",
       " (4, 16),\n",
       " (4, 17),\n",
       " (5, 9),\n",
       " (5, 10),\n",
       " (5, 11),\n",
       " (5, 12),\n",
       " (5, 13),\n",
       " (5, 14),\n",
       " (5, 15),\n",
       " (5, 16),\n",
       " (5, 17),\n",
       " (6, 9),\n",
       " (6, 10),\n",
       " (6, 11),\n",
       " (6, 12),\n",
       " (6, 13),\n",
       " (6, 14),\n",
       " (6, 15),\n",
       " (6, 16),\n",
       " (6, 17),\n",
       " (7, 9),\n",
       " (7, 10),\n",
       " (7, 11),\n",
       " (7, 12),\n",
       " (7, 13),\n",
       " (7, 14),\n",
       " (7, 15),\n",
       " (7, 16),\n",
       " (7, 17),\n",
       " (8, 9),\n",
       " (8, 10),\n",
       " (8, 11),\n",
       " (8, 12),\n",
       " (8, 13),\n",
       " (8, 14),\n",
       " (8, 15),\n",
       " (8, 16),\n",
       " (8, 17)]"
      ]
     },
     "execution_count": 98,
     "metadata": {},
     "output_type": "execute_result"
    }
   ],
   "source": [
    "combs"
   ]
  },
  {
   "cell_type": "code",
   "execution_count": 97,
   "metadata": {},
   "outputs": [
    {
     "data": {
      "text/plain": [
       "[(('resnet50', 'waya'), ('resnet50', 'waya')),\n",
       " (('resnet50', 'waya'), ('resnet50', 'chollet')),\n",
       " (('resnet50', 'waya'), ('resnet50', 'linear')),\n",
       " (('resnet50', 'waya'), ('vgg16', 'waya')),\n",
       " (('resnet50', 'waya'), ('vgg16', 'chollet')),\n",
       " (('resnet50', 'waya'), ('vgg16', 'linear')),\n",
       " (('resnet50', 'waya'), ('vgg19', 'waya')),\n",
       " (('resnet50', 'waya'), ('vgg19', 'chollet')),\n",
       " (('resnet50', 'waya'), ('vgg19', 'linear')),\n",
       " (('resnet50', 'chollet'), ('resnet50', 'waya')),\n",
       " (('resnet50', 'chollet'), ('resnet50', 'chollet')),\n",
       " (('resnet50', 'chollet'), ('resnet50', 'linear')),\n",
       " (('resnet50', 'chollet'), ('vgg16', 'waya')),\n",
       " (('resnet50', 'chollet'), ('vgg16', 'chollet')),\n",
       " (('resnet50', 'chollet'), ('vgg16', 'linear')),\n",
       " (('resnet50', 'chollet'), ('vgg19', 'waya')),\n",
       " (('resnet50', 'chollet'), ('vgg19', 'chollet')),\n",
       " (('resnet50', 'chollet'), ('vgg19', 'linear')),\n",
       " (('resnet50', 'linear'), ('resnet50', 'waya')),\n",
       " (('resnet50', 'linear'), ('resnet50', 'chollet')),\n",
       " (('resnet50', 'linear'), ('resnet50', 'linear')),\n",
       " (('resnet50', 'linear'), ('vgg16', 'waya')),\n",
       " (('resnet50', 'linear'), ('vgg16', 'chollet')),\n",
       " (('resnet50', 'linear'), ('vgg16', 'linear')),\n",
       " (('resnet50', 'linear'), ('vgg19', 'waya')),\n",
       " (('resnet50', 'linear'), ('vgg19', 'chollet')),\n",
       " (('resnet50', 'linear'), ('vgg19', 'linear')),\n",
       " (('vgg16', 'waya'), ('resnet50', 'waya')),\n",
       " (('vgg16', 'waya'), ('resnet50', 'chollet')),\n",
       " (('vgg16', 'waya'), ('resnet50', 'linear')),\n",
       " (('vgg16', 'waya'), ('vgg16', 'waya')),\n",
       " (('vgg16', 'waya'), ('vgg16', 'chollet')),\n",
       " (('vgg16', 'waya'), ('vgg16', 'linear')),\n",
       " (('vgg16', 'waya'), ('vgg19', 'waya')),\n",
       " (('vgg16', 'waya'), ('vgg19', 'chollet')),\n",
       " (('vgg16', 'waya'), ('vgg19', 'linear')),\n",
       " (('vgg16', 'chollet'), ('resnet50', 'waya')),\n",
       " (('vgg16', 'chollet'), ('resnet50', 'chollet')),\n",
       " (('vgg16', 'chollet'), ('resnet50', 'linear')),\n",
       " (('vgg16', 'chollet'), ('vgg16', 'waya')),\n",
       " (('vgg16', 'chollet'), ('vgg16', 'chollet')),\n",
       " (('vgg16', 'chollet'), ('vgg16', 'linear')),\n",
       " (('vgg16', 'chollet'), ('vgg19', 'waya')),\n",
       " (('vgg16', 'chollet'), ('vgg19', 'chollet')),\n",
       " (('vgg16', 'chollet'), ('vgg19', 'linear')),\n",
       " (('vgg16', 'linear'), ('resnet50', 'waya')),\n",
       " (('vgg16', 'linear'), ('resnet50', 'chollet')),\n",
       " (('vgg16', 'linear'), ('resnet50', 'linear')),\n",
       " (('vgg16', 'linear'), ('vgg16', 'waya')),\n",
       " (('vgg16', 'linear'), ('vgg16', 'chollet')),\n",
       " (('vgg16', 'linear'), ('vgg16', 'linear')),\n",
       " (('vgg16', 'linear'), ('vgg19', 'waya')),\n",
       " (('vgg16', 'linear'), ('vgg19', 'chollet')),\n",
       " (('vgg16', 'linear'), ('vgg19', 'linear')),\n",
       " (('vgg19', 'waya'), ('resnet50', 'waya')),\n",
       " (('vgg19', 'waya'), ('resnet50', 'chollet')),\n",
       " (('vgg19', 'waya'), ('resnet50', 'linear')),\n",
       " (('vgg19', 'waya'), ('vgg16', 'waya')),\n",
       " (('vgg19', 'waya'), ('vgg16', 'chollet')),\n",
       " (('vgg19', 'waya'), ('vgg16', 'linear')),\n",
       " (('vgg19', 'waya'), ('vgg19', 'waya')),\n",
       " (('vgg19', 'waya'), ('vgg19', 'chollet')),\n",
       " (('vgg19', 'waya'), ('vgg19', 'linear')),\n",
       " (('vgg19', 'chollet'), ('resnet50', 'waya')),\n",
       " (('vgg19', 'chollet'), ('resnet50', 'chollet')),\n",
       " (('vgg19', 'chollet'), ('resnet50', 'linear')),\n",
       " (('vgg19', 'chollet'), ('vgg16', 'waya')),\n",
       " (('vgg19', 'chollet'), ('vgg16', 'chollet')),\n",
       " (('vgg19', 'chollet'), ('vgg16', 'linear')),\n",
       " (('vgg19', 'chollet'), ('vgg19', 'waya')),\n",
       " (('vgg19', 'chollet'), ('vgg19', 'chollet')),\n",
       " (('vgg19', 'chollet'), ('vgg19', 'linear')),\n",
       " (('vgg19', 'linear'), ('resnet50', 'waya')),\n",
       " (('vgg19', 'linear'), ('resnet50', 'chollet')),\n",
       " (('vgg19', 'linear'), ('resnet50', 'linear')),\n",
       " (('vgg19', 'linear'), ('vgg16', 'waya')),\n",
       " (('vgg19', 'linear'), ('vgg16', 'chollet')),\n",
       " (('vgg19', 'linear'), ('vgg16', 'linear')),\n",
       " (('vgg19', 'linear'), ('vgg19', 'waya')),\n",
       " (('vgg19', 'linear'), ('vgg19', 'chollet')),\n",
       " (('vgg19', 'linear'), ('vgg19', 'linear'))]"
      ]
     },
     "execution_count": 97,
     "metadata": {},
     "output_type": "execute_result"
    }
   ],
   "source": [
    "comb_names_sq"
   ]
  },
  {
   "cell_type": "code",
   "execution_count": 69,
   "metadata": {},
   "outputs": [
    {
     "data": {
      "text/plain": [
       "(796,)"
      ]
     },
     "execution_count": 69,
     "metadata": {},
     "output_type": "execute_result"
    }
   ],
   "source": [
    "PA_model_score.shape"
   ]
  },
  {
   "cell_type": "code",
   "execution_count": 70,
   "metadata": {},
   "outputs": [
    {
     "data": {
      "text/plain": [
       "(796,)"
      ]
     },
     "execution_count": 70,
     "metadata": {},
     "output_type": "execute_result"
    }
   ],
   "source": [
    "LAT_model_score.shape"
   ]
  },
  {
   "cell_type": "code",
   "execution_count": 71,
   "metadata": {},
   "outputs": [
    {
     "data": {
      "text/plain": [
       "[0.6172192621398449,\n",
       " 0.63266079139415676,\n",
       " 0.64783086285699865,\n",
       " 0.66333552183025679,\n",
       " 0.67675690007828082,\n",
       " 0.68690815888487666,\n",
       " 0.69211636069796212,\n",
       " 0.69410494684477664,\n",
       " 0.69341051993636516,\n",
       " 0.69106209439155575]"
      ]
     },
     "execution_count": 71,
     "metadata": {},
     "output_type": "execute_result"
    }
   ],
   "source": [
    "inc_auc = []\n",
    "for i in range(10):\n",
    "    ensemble_score = np.mean([(i/10)*PA_model_score,(1-i/10)*LAT_model_score], axis=0)\n",
    "    fpr, tpr, thresholds = metrics.roc_curve(y, ensemble_score, pos_label=1)\n",
    "    roc_auc = metrics.auc(fpr, tpr)\n",
    "    inc_auc.append(roc_auc)\n",
    "inc_auc"
   ]
  },
  {
   "cell_type": "code",
   "execution_count": 72,
   "metadata": {
    "collapsed": true
   },
   "outputs": [],
   "source": [
    "import matplotlib.pyplot as plt"
   ]
  },
  {
   "cell_type": "code",
   "execution_count": 73,
   "metadata": {},
   "outputs": [
    {
     "data": {
      "text/plain": [
       "[<matplotlib.lines.Line2D at 0x7faa8de35ac8>]"
      ]
     },
     "execution_count": 73,
     "metadata": {},
     "output_type": "execute_result"
    }
   ],
   "source": [
    "plt.plot(range(10), inc_auc)"
   ]
  },
  {
   "cell_type": "code",
   "execution_count": 74,
   "metadata": {},
   "outputs": [
    {
     "data": {
      "image/png": "[encoded data removed]",
      "text/plain": [
       "<matplotlib.figure.Figure at 0x7faa8e0f7a90>"
      ]
     },
     "metadata": {},
     "output_type": "display_data"
    }
   ],
   "source": [
    "plt.show()"
   ]
  },
  {
   "cell_type": "code",
   "execution_count": 75,
   "metadata": {},
   "outputs": [
    {
     "name": "stdout",
     "output_type": "stream",
     "text": [
      "9\n",
      "10\n",
      "11\n",
      "12\n",
      "13\n",
      "14\n",
      "15\n",
      "16\n",
      "17\n"
     ]
    }
   ],
   "source": [
    "for i in range(9,18):\n",
    "    print(i)"
   ]
  },
  {
   "cell_type": "code",
   "execution_count": null,
   "metadata": {
    "collapsed": true
   },
   "outputs": [],
   "source": []
  }
 ],
 "metadata": {
  "kernelspec": {
   "display_name": "Python 3",
   "language": "python",
   "name": "python3"
  },
  "language_info": {
   "codemirror_mode": {
    "name": "ipython",
    "version": 3
   },
   "file_extension": ".py",
   "mimetype": "text/x-python",
   "name": "python",
   "nbconvert_exporter": "python",
   "pygments_lexer": "ipython3",
   "version": "3.6.0"
  }
 },
 "nbformat": 4,
 "nbformat_minor": 2
}
